{
  "nbformat": 4,
  "nbformat_minor": 0,
  "metadata": {
    "colab": {
      "name": "Simulação Didática Perceptron",
      "provenance": [],
      "collapsed_sections": [],
      "authorship_tag": "ABX9TyPPoXN2H7wX+f1QBGoCQiXM",
      "include_colab_link": true
    },
    "kernelspec": {
      "display_name": "Python 3",
      "name": "python3"
    },
    "language_info": {
      "name": "python"
    }
  },
  "cells": [
    {
      "cell_type": "markdown",
      "metadata": {
        "id": "view-in-github",
        "colab_type": "text"
      },
      "source": [
        "<a href=\"https://colab.research.google.com/github/Beebruna/Iniciacao-Cientifica/blob/main/Simula%C3%A7%C3%A3o_Did%C3%A1tica_Perceptron.ipynb\" target=\"_parent\"><img src=\"https://colab.research.google.com/assets/colab-badge.svg\" alt=\"Open In Colab\"/></a>"
      ]
    },
    {
      "cell_type": "markdown",
      "metadata": {
        "id": "AAThHNY2vhpk"
      },
      "source": [
        "Código Perceptron bem básico, programado de forma sequencial/procedural, bem passo a passo, para fins didáticos\n",
        "\n",
        "-> Melhorar o código: de forma procedural e orientação a objeto."
      ]
    },
    {
      "cell_type": "code",
      "metadata": {
        "id": "kUER-NBUuNk5"
      },
      "source": [
        "from random import random, randint"
      ],
      "execution_count": 672,
      "outputs": []
    },
    {
      "cell_type": "markdown",
      "metadata": {
        "id": "kiDMogjlOBK3"
      },
      "source": [
        "Tentando construir um perceptron para as portas nand, or e and."
      ]
    },
    {
      "cell_type": "markdown",
      "metadata": {
        "id": "0eSAaZAAaB9L"
      },
      "source": [
        "TREINAMENTO"
      ]
    },
    {
      "cell_type": "code",
      "metadata": {
        "id": "zae2HYZiJv8b"
      },
      "source": [
        "#Amostras\n",
        "amostra = [[0, 0], [0, 1], [1, 0], [1 ,1]]\n",
        "\n",
        "#Saídas desejadas para cada entrada do conjunto de amostras\n",
        "d1 = [0, 0, 0, 1] #AND\n",
        "d2 = [0, 1, 1, 1] #OR\n",
        "d3 = [1, 1, 1, 0] #NAND\n",
        "\n",
        "bias = 0.0"
      ],
      "execution_count": 673,
      "outputs": []
    },
    {
      "cell_type": "markdown",
      "metadata": {
        "id": "pE4KhYwDhtvo"
      },
      "source": [
        "O bias, representando como vetor, como parte do conjunto de amostras de entrada \n",
        ": x0 = -1 e W0 = bias"
      ]
    },
    {
      "cell_type": "markdown",
      "metadata": {
        "id": "kpCayvSwn8GB"
      },
      "source": [
        "Obter o conjunto de amostras de treinamento x(k)"
      ]
    },
    {
      "cell_type": "code",
      "metadata": {
        "id": "Petm2CWNdusz"
      },
      "source": [
        "#Criando uma cópia do conjunto de amostras original, para não alterá-la\n",
        "amostraEntradas = [None for _ in range(len(amostra))]\n",
        "\n",
        "for i, j in enumerate(amostra):\n",
        "  amostraEntradas[i] = j.copy()\n",
        "\n",
        "#Adicionando o sinal da entrada -1 do bias ao conjunto de amostras\n",
        "for i in amostraEntradas:\n",
        "  i.insert(0, -1)"
      ],
      "execution_count": 674,
      "outputs": []
    },
    {
      "cell_type": "markdown",
      "metadata": {
        "id": "1pdsHEr6oKHG"
      },
      "source": [
        "Associar a saída desejada {d(k)} para cada amostra obtida"
      ]
    },
    {
      "cell_type": "code",
      "metadata": {
        "id": "hCnh8Egwn3U-"
      },
      "source": [
        "amostraTreinamento = list()\n",
        "\n",
        "for i in range(len(amostraEntradas)):\n",
        "    amostraTreinamento.append([amostraEntradas[i], d1[i]])"
      ],
      "execution_count": 675,
      "outputs": []
    },
    {
      "cell_type": "code",
      "metadata": {
        "colab": {
          "base_uri": "https://localhost:8080/"
        },
        "id": "Ox6JVFJntOUL",
        "outputId": "7cd9ef1c-0c92-40d3-90c8-d28879874bd6"
      },
      "source": [
        "amostraTreinamento"
      ],
      "execution_count": 676,
      "outputs": [
        {
          "output_type": "execute_result",
          "data": {
            "text/plain": [
              "[[[-1, 0, 0], 0], [[-1, 0, 1], 0], [[-1, 1, 0], 0], [[-1, 1, 1], 1]]"
            ]
          },
          "metadata": {},
          "execution_count": 676
        }
      ]
    },
    {
      "cell_type": "markdown",
      "metadata": {
        "id": "6559IcKQu5Y-"
      },
      "source": [
        "Iniciar o vetor w com valores aleatórios pequenos"
      ]
    },
    {
      "cell_type": "code",
      "metadata": {
        "id": "Gz60FwI-u1SP"
      },
      "source": [
        "w = list()\n",
        "\n",
        "w.append(bias)\n",
        "for i in range(len(amostra[0])):\n",
        "    w.append(random())\n"
      ],
      "execution_count": 677,
      "outputs": []
    },
    {
      "cell_type": "markdown",
      "metadata": {
        "id": "MXAkQmo4noUU"
      },
      "source": [
        "Especificar a quantidade de épocas máximo"
      ]
    },
    {
      "cell_type": "code",
      "metadata": {
        "id": "xwNkIclynn0S"
      },
      "source": [
        "epocas_max = 50000"
      ],
      "execution_count": 678,
      "outputs": []
    },
    {
      "cell_type": "markdown",
      "metadata": {
        "id": "7H152iBqQBUV"
      },
      "source": [
        "Especificar a taxa de aprendizagem {eta}"
      ]
    },
    {
      "cell_type": "code",
      "metadata": {
        "id": "CyS6RkDCP-bk"
      },
      "source": [
        "eta = 0.5 # 0 < eta < 1"
      ],
      "execution_count": 679,
      "outputs": []
    },
    {
      "cell_type": "code",
      "metadata": {
        "id": "CYZOv4M5dzZh"
      },
      "source": [
        "def funcaoAtivacao(u):\n",
        "# função degrau\n",
        "\n",
        "  if u >= 0:\n",
        "    return 1\n",
        "  else:\n",
        "    return 0"
      ],
      "execution_count": 680,
      "outputs": []
    },
    {
      "cell_type": "code",
      "metadata": {
        "id": "vB6N1PqHQTda",
        "colab": {
          "base_uri": "https://localhost:8080/"
        },
        "outputId": "9c68786f-092a-4e6d-dc5a-8468d8ad0fbb"
      },
      "source": [
        "epocas = 0 #Iniciar o contador de números de épocas {épocas <- 0}\n",
        "while True:\n",
        "  erro = False\n",
        "  vetor_erro = list()\n",
        "  for i in amostraTreinamento:\n",
        "    u = 0\n",
        "    for j in range(len(w)):\n",
        "      u += w[j]*i[0][j] # calculando o potencial de ativação\n",
        "      \n",
        "    y = funcaoAtivacao(u) # calculando a saída do perceptron\n",
        "        \n",
        "    vetor_erro.append(i[1] - y)\n",
        "\n",
        "    if y != i[1]:\n",
        "      for k in range(len(w)):\n",
        "        w[k] = w[k] + eta*(i[1] - y)*i[0][k]\n",
        "        erro = True\n",
        "\n",
        "  epocas += 1\n",
        "  print(f'Épocas {epocas}')\n",
        "  print(f'Pesos {w}')\n",
        "  print(f'Vetor de Erros: {vetor_erro}')\n",
        "\n",
        "  if erro == False or epocas == epocas_max:\n",
        "    break\n"
      ],
      "execution_count": 681,
      "outputs": [
        {
          "output_type": "stream",
          "name": "stdout",
          "text": [
            "Épocas 1\n",
            "Pesos [1.0, 0.7722948893442192, 0.3673136978858761]\n",
            "Vetor de Erros: [-1, -1, 0, 0]\n",
            "Épocas 2\n",
            "Pesos [1.0, 0.7722948893442192, 0.3673136978858761]\n",
            "Vetor de Erros: [0, 0, 0, 0]\n"
          ]
        }
      ]
    },
    {
      "cell_type": "markdown",
      "metadata": {
        "id": "LCS3Z7-4aJRk"
      },
      "source": [
        "OPERAÇÃO"
      ]
    },
    {
      "cell_type": "code",
      "metadata": {
        "id": "KA2IGWJyfZ8B"
      },
      "source": [
        "import copy"
      ],
      "execution_count": 682,
      "outputs": []
    },
    {
      "cell_type": "code",
      "metadata": {
        "id": "-QKC8WhvaIvE"
      },
      "source": [
        "amostraTeste = copy.deepcopy(amostra)\n",
        "for i in range(len(amostra)):\n",
        "  amostraTeste[i].insert(0, -1)"
      ],
      "execution_count": 683,
      "outputs": []
    },
    {
      "cell_type": "code",
      "metadata": {
        "colab": {
          "base_uri": "https://localhost:8080/"
        },
        "id": "8BTDRsO6feHN",
        "outputId": "b1c1d41c-499c-4e9b-f738-4cc6c32dea44"
      },
      "source": [
        "for a in amostraTeste:\n",
        "  u = 0\n",
        "  for j in range(len(w)):\n",
        "    u += w[j]*a[j]\n",
        "  \n",
        "  y = funcaoAtivacao(u)\n",
        "\n",
        "  if y == 1:\n",
        "    print(f'A amostra {a[1:]} pertence a classe A')\n",
        "  else:\n",
        "    print(f'A amostra {a[1:]} pertence a classe B')  "
      ],
      "execution_count": 684,
      "outputs": [
        {
          "output_type": "stream",
          "name": "stdout",
          "text": [
            "A amostra [0, 0] pertence a classe B\n",
            "A amostra [0, 1] pertence a classe B\n",
            "A amostra [1, 0] pertence a classe B\n",
            "A amostra [1, 1] pertence a classe A\n"
          ]
        }
      ]
    }
  ]
}