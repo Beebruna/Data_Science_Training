{
  "nbformat": 4,
  "nbformat_minor": 0,
  "metadata": {
    "colab": {
      "provenance": [],
      "collapsed_sections": [],
      "authorship_tag": "ABX9TyM8A2z5LWW2OmnctTGU5Wdn",
      "include_colab_link": true
    },
    "kernelspec": {
      "name": "python3",
      "display_name": "Python 3"
    },
    "language_info": {
      "name": "python"
    }
  },
  "cells": [
    {
      "cell_type": "markdown",
      "metadata": {
        "id": "view-in-github",
        "colab_type": "text"
      },
      "source": [
        "<a href=\"https://colab.research.google.com/github/Beebruna/Treinamento_Machine_Learning/blob/main/Introdu%C3%A7%C3%A3o_a_Machine_Learning.ipynb\" target=\"_parent\"><img src=\"https://colab.research.google.com/assets/colab-badge.svg\" alt=\"Open In Colab\"/></a>"
      ]
    },
    {
      "cell_type": "markdown",
      "source": [
        "https://www.youtube.com/watch?v=JyGGMyR3x5I&ab_channel=FilipeDeschamps"
      ],
      "metadata": {
        "id": "8fkJEq7tVapN"
      }
    },
    {
      "cell_type": "markdown",
      "source": [
        "# Anotações"
      ],
      "metadata": {
        "id": "EDffP6UGdWkW"
      }
    },
    {
      "cell_type": "markdown",
      "source": [
        "sklearn.dummy.DummyClassifier <p>\n",
        "\n",
        "\n",
        "*   Chuta o mais frequente, ou proporcionalmente\n",
        "*   Faz chutes simples\n",
        "\n",
        "\n",
        "\n"
      ],
      "metadata": {
        "id": "MweaUpejdbld"
      }
    },
    {
      "cell_type": "markdown",
      "source": [
        "\n",
        "\n",
        "*   melhor que um ser humano, que um dummy\n",
        "*   se faz sentido para o problema de negócio\n",
        "*   o modelo pode ser pior que as heurísticas simples\n",
        "\n",
        "\n",
        "\n"
      ],
      "metadata": {
        "id": "cAGuBIE4dt0E"
      }
    },
    {
      "cell_type": "markdown",
      "source": [
        "Termos para estudar <p>\n",
        "\n",
        "*   Randomized Controlled Trial\n",
        "\n"
      ],
      "metadata": {
        "id": "WRK_LzEX6Zps"
      }
    },
    {
      "cell_type": "markdown",
      "source": [
        "# Classificador 1"
      ],
      "metadata": {
        "id": "tdr_HLKJdpHd"
      }
    },
    {
      "cell_type": "code",
      "source": [
        "from sklearn.svm import LinearSVC\n",
        "from sklearn.metrics import accuracy_score\n",
        "import pandas as pd"
      ],
      "metadata": {
        "id": "4VPiYwjTaQvO"
      },
      "execution_count": 28,
      "outputs": []
    },
    {
      "cell_type": "markdown",
      "source": [
        "Cada coluna é um feature"
      ],
      "metadata": {
        "id": "s0-LxPmaZoSS"
      }
    },
    {
      "cell_type": "code",
      "execution_count": 11,
      "metadata": {
        "id": "9SKOALagVPCs"
      },
      "outputs": [],
      "source": [
        "# pelo longo?\n",
        "# perna curta?\n",
        "# faz auau?\n",
        "\n",
        "porco1 = [0, 1, 0]\n",
        "porco2 = [0, 1, 1]\n",
        "porco3 = [1, 1, 0]\n",
        "\n",
        "cachorro1 = [0, 1, 1]\n",
        "cachorro2 = [1, 0, 1]\n",
        "cachorro3 = [1, 1, 1]"
      ]
    },
    {
      "cell_type": "code",
      "source": [
        "treino_x = [porco1, porco2, porco3, cachorro1, cachorro2, cachorro3] #animais"
      ],
      "metadata": {
        "id": "KecXb2kUXCaK"
      },
      "execution_count": 12,
      "outputs": []
    },
    {
      "cell_type": "code",
      "source": [
        "#Nada a ver com os de cima\n",
        "treino_y = [1,1,1,0,0,0] # 0 cachorro 1 porco # Classificações"
      ],
      "metadata": {
        "id": "iIyikKjfXQMS"
      },
      "execution_count": 13,
      "outputs": []
    },
    {
      "cell_type": "code",
      "source": [
        "modelo = LinearSVC()\n",
        "modelo.fit(treino_x, treino_y)"
      ],
      "metadata": {
        "colab": {
          "base_uri": "https://localhost:8080/"
        },
        "id": "oxH4IueDaWQT",
        "outputId": "a9346325-6491-4b17-f84d-005af5729607"
      },
      "execution_count": 14,
      "outputs": [
        {
          "output_type": "execute_result",
          "data": {
            "text/plain": [
              "LinearSVC()"
            ]
          },
          "metadata": {},
          "execution_count": 14
        }
      ]
    },
    {
      "cell_type": "code",
      "source": [
        "animal_misterioso = [1, 1, 1]"
      ],
      "metadata": {
        "id": "RAz1X4sdauYq"
      },
      "execution_count": 17,
      "outputs": []
    },
    {
      "cell_type": "code",
      "source": [
        "modelo.predict([animal_misterioso]) #recebe uma lista"
      ],
      "metadata": {
        "colab": {
          "base_uri": "https://localhost:8080/"
        },
        "id": "cOyLwtp_a6tA",
        "outputId": "ce1871c8-1409-4c46-e4e7-ee70a6bec505"
      },
      "execution_count": 18,
      "outputs": [
        {
          "output_type": "execute_result",
          "data": {
            "text/plain": [
              "array([0])"
            ]
          },
          "metadata": {},
          "execution_count": 18
        }
      ]
    },
    {
      "cell_type": "code",
      "source": [
        "misterio1 = [1, 1, 1]\n",
        "misterio2 = [1, 1, 0]\n",
        "misterio3 = [0, 1, 1]"
      ],
      "metadata": {
        "id": "Aoo9FJO5bIfE"
      },
      "execution_count": 21,
      "outputs": []
    },
    {
      "cell_type": "code",
      "source": [
        "teste_x = [misterio1, misterio2, misterio3]"
      ],
      "metadata": {
        "id": "vI8NLbS6bbgF"
      },
      "execution_count": 22,
      "outputs": []
    },
    {
      "cell_type": "code",
      "source": [
        "teste_y = [0, 1, 1]"
      ],
      "metadata": {
        "id": "celpJIqfbhU9"
      },
      "execution_count": 23,
      "outputs": []
    },
    {
      "cell_type": "code",
      "source": [
        "previsoes = modelo.predict(teste_x)"
      ],
      "metadata": {
        "id": "KltU7Jcobp3V"
      },
      "execution_count": 24,
      "outputs": []
    },
    {
      "cell_type": "code",
      "source": [
        "previsoes"
      ],
      "metadata": {
        "colab": {
          "base_uri": "https://localhost:8080/"
        },
        "id": "tAoZSVIIbvBY",
        "outputId": "f1c429f8-212c-4da2-e8a0-f62d8e50363c"
      },
      "execution_count": 25,
      "outputs": [
        {
          "output_type": "execute_result",
          "data": {
            "text/plain": [
              "array([0, 1, 0])"
            ]
          },
          "metadata": {},
          "execution_count": 25
        }
      ]
    },
    {
      "cell_type": "markdown",
      "source": [
        "A percepção de quão bom é a acurácia depende do contexto em que se está traballhando <p>"
      ],
      "metadata": {
        "id": "RF0b5b8eeLiM"
      }
    },
    {
      "cell_type": "code",
      "source": [
        "accuracy_score(teste_y, previsoes)"
      ],
      "metadata": {
        "colab": {
          "base_uri": "https://localhost:8080/"
        },
        "id": "_tbxru7CcL5G",
        "outputId": "674996f2-ca1c-4c76-a50e-3f9ee5487ec4"
      },
      "execution_count": 27,
      "outputs": [
        {
          "output_type": "execute_result",
          "data": {
            "text/plain": [
              "0.6666666666666666"
            ]
          },
          "metadata": {},
          "execution_count": 27
        }
      ]
    }
  ]
}