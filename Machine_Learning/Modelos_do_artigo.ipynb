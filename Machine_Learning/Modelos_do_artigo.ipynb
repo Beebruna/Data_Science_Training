{
  "nbformat": 4,
  "nbformat_minor": 0,
  "metadata": {
    "colab": {
      "provenance": [],
      "collapsed_sections": [
        "VsWMK4S225M6",
        "G5aHDNgQE-dk",
        "Cni8tPRF5eMX",
        "JLCvyPCx_Ho0",
        "S1SB-rfc52P1",
        "AjCVoF1k3-l9",
        "0OOsmjnCP2Ov",
        "UyDWlF-sPp74",
        "ZzT_mGkePR-t",
        "tT__l9AQSlQI"
      ],
      "include_colab_link": true
    },
    "kernelspec": {
      "name": "python3",
      "display_name": "Python 3"
    },
    "language_info": {
      "name": "python"
    }
  },
  "cells": [
    {
      "cell_type": "markdown",
      "metadata": {
        "id": "view-in-github",
        "colab_type": "text"
      },
      "source": [
        "<a href=\"https://colab.research.google.com/github/Beebruna/Treinamento_Data_Science/blob/main/Modelos_do_artigo.ipynb\" target=\"_parent\"><img src=\"https://colab.research.google.com/assets/colab-badge.svg\" alt=\"Open In Colab\"/></a>"
      ]
    },
    {
      "cell_type": "markdown",
      "source": [],
      "metadata": {
        "id": "AA9-_xg50QSX"
      }
    },
    {
      "cell_type": "code",
      "source": [
        "from sklearn.neighbors import (NeighborhoodComponentsAnalysis, KNeighborsClassifier)"
      ],
      "metadata": {
        "id": "yhaquisi1aX6"
      },
      "execution_count": null,
      "outputs": []
    },
    {
      "cell_type": "code",
      "source": [
        "from sklearn.datasets import load_iris"
      ],
      "metadata": {
        "id": "_xWELU-411ER"
      },
      "execution_count": null,
      "outputs": []
    },
    {
      "cell_type": "code",
      "source": [
        "from sklearn.model_selection import train_test_split"
      ],
      "metadata": {
        "id": "HWAac3iFytwI"
      },
      "execution_count": null,
      "outputs": []
    },
    {
      "cell_type": "code",
      "source": [
        "from sklearn.pipeline import Pipeline"
      ],
      "metadata": {
        "id": "l200Xhfc2Odd"
      },
      "execution_count": null,
      "outputs": []
    },
    {
      "cell_type": "code",
      "source": [
        "from sklearn.pipeline import Pipeline\n",
        "from sklearn.neural_network import MLPClassifier\n",
        "from sklearn.model_selection import StratifiedKFold, GridSearchCV, cross_val_score\n",
        "from sklearn.metrics import accuracy_score, confusion_matrix, roc_curve, roc_auc_score, classification_report\n",
        "from sklearn.preprocessing import Normalizer, MinMaxScaler, StandardScaler, RobustScaler, QuantileTransformer, LabelEncoder"
      ],
      "metadata": {
        "id": "mG2vBYHK3iYN"
      },
      "execution_count": null,
      "outputs": []
    },
    {
      "cell_type": "code",
      "source": [
        "## Libs\n",
        "import pandas as pd\n",
        "import os\n",
        "import cv2\n",
        "import matplotlib.pyplot as plt\n",
        "import numpy as np\n",
        "import re\n",
        "\n",
        "from sklearn.model_selection import train_test_split\n",
        "from sklearn.model_selection import cross_val_score\n",
        "from sklearn.metrics import accuracy_score, max_error, mean_squared_error\n",
        "from sklearn.preprocessing import StandardScaler  \n",
        "\n",
        "import warnings\n",
        "warnings.filterwarnings('ignore')\n",
        "\n",
        "#KNN\n",
        "from sklearn.neighbors import KNeighborsClassifier\n",
        "\n",
        "#Linear Model\n",
        "from sklearn import linear_model\n",
        "\n",
        "#NaiveBayesClassifiers\n",
        "from sklearn.naive_bayes import GaussianNB\n",
        "\n",
        "#Decicion Tree\n",
        "from sklearn import tree\n",
        "\n",
        "#Random Forest\n",
        "from sklearn.ensemble import RandomForestClassifier\n",
        "\n",
        "#Support Vector Machine\n",
        "from sklearn import svm\n",
        "\n",
        "#AgglomerativeClustering\n",
        "from sklearn.cluster import AgglomerativeClustering\n",
        "\n",
        "#DBS SCAN\n",
        "from sklearn.cluster import DBSCAN\n",
        "\n",
        "#K-MEANS\n",
        "from sklearn.cluster import KMeans"
      ],
      "metadata": {
        "id": "wF3pqexm6HjV"
      },
      "execution_count": null,
      "outputs": []
    },
    {
      "cell_type": "code",
      "source": [
        "from sklearn.metrics import mean_squared_error\n",
        "from sklearn.metrics import mean_absolute_percentage_error\n",
        "\n",
        "def erros(y_test, y_pred):\n",
        "    mape = mean_absolute_percentage_error(y_test, y_pred)\n",
        "    print(f\"MAPE: {mape*100:.5f}%\")\n",
        "    \n",
        "    mse = mean_squared_error(y_test, y_pred)\n",
        "    print(f\"MSE: {mse:.2f}\")"
      ],
      "metadata": {
        "id": "VlAz8g3M3a6A"
      },
      "execution_count": null,
      "outputs": []
    },
    {
      "cell_type": "code",
      "source": [
        "features, label = load_iris(return_X_y=True)\n",
        "X_train, X_test, y_train, y_test = train_test_split(features, label, stratify=label, train_size=0.5, random_state=42)"
      ],
      "metadata": {
        "id": "RFzdYJJGzNKb"
      },
      "execution_count": null,
      "outputs": []
    },
    {
      "cell_type": "code",
      "source": [
        "vet_accuracy = []"
      ],
      "metadata": {
        "id": "CG4L04iEENB-"
      },
      "execution_count": null,
      "outputs": []
    },
    {
      "cell_type": "markdown",
      "source": [
        "#**Aprendizado Supervisionado**\n"
      ],
      "metadata": {
        "id": "HBlm_ic-Pxjo"
      }
    },
    {
      "cell_type": "markdown",
      "source": [
        "#K-Nearest Neighbors"
      ],
      "metadata": {
        "id": "VsWMK4S225M6"
      }
    },
    {
      "cell_type": "code",
      "source": [
        "nca = NeighborhoodComponentsAnalysis(random_state=42)\n",
        "knn = KNeighborsClassifier(n_neighbors=3)"
      ],
      "metadata": {
        "id": "E0caFBCWzdh4"
      },
      "execution_count": null,
      "outputs": []
    },
    {
      "cell_type": "code",
      "source": [
        "nca_pipe = Pipeline([('nca', nca), ('knn', knn)])\n",
        "nca_pipe.fit(X_train, y_train)\n",
        "print(nca_pipe.score(X_test, y_test))"
      ],
      "metadata": {
        "colab": {
          "base_uri": "https://localhost:8080/"
        },
        "id": "qpnmSOcY6_D2",
        "outputId": "3809b5fa-8b90-4e5e-e2c5-7ae78fb64870"
      },
      "execution_count": null,
      "outputs": [
        {
          "output_type": "stream",
          "name": "stdout",
          "text": [
            "0.9466666666666667\n"
          ]
        }
      ]
    },
    {
      "cell_type": "code",
      "source": [
        "knn = KNeighborsClassifier(n_neighbors=3)\n",
        "knn_scores = knn.fit(X_train, y_train)\n",
        "\n",
        "vet_accuracy.append(f'KNeighborsClassifier: {(knn.score(X_test, y_test) * 100):.2f}%')\n",
        "print(vet_accuracy[-1])"
      ],
      "metadata": {
        "colab": {
          "base_uri": "https://localhost:8080/"
        },
        "id": "U51IWSLe39gN",
        "outputId": "a462143c-518e-434d-9abd-45d4b587e276"
      },
      "execution_count": null,
      "outputs": [
        {
          "output_type": "stream",
          "name": "stdout",
          "text": [
            "KNeighborsClassifier: 92.00%\n"
          ]
        }
      ]
    },
    {
      "cell_type": "markdown",
      "source": [
        "#Linear Model"
      ],
      "metadata": {
        "id": "G5aHDNgQE-dk"
      }
    },
    {
      "cell_type": "code",
      "source": [
        "reg = linear_model.Lasso()\n",
        "reg.fit(X_train, y_train)\n",
        "reg_pred = reg.predict(X_test)\n",
        "\n",
        "vet_accuracy.append(f'Linear Model erro médio quadrado: {(mean_squared_error(y_test, reg_pred) * 100):.2f}%')\n",
        "print(vet_accuracy[-1])"
      ],
      "metadata": {
        "colab": {
          "base_uri": "https://localhost:8080/"
        },
        "id": "zR0OLrj7FAEU",
        "outputId": "76f4cbb2-3c81-4cbb-c68c-299f75aec56c"
      },
      "execution_count": null,
      "outputs": [
        {
          "output_type": "stream",
          "name": "stdout",
          "text": [
            "Linear Model erro médio quadrado: 38.29%\n"
          ]
        }
      ]
    },
    {
      "cell_type": "markdown",
      "source": [
        "#Naive Bayes classifiers"
      ],
      "metadata": {
        "id": "Cni8tPRF5eMX"
      }
    },
    {
      "cell_type": "code",
      "source": [
        "gnb = GaussianNB()\n",
        "gnb.fit(X_train, y_train)\n",
        "\n",
        "predict_features = gnb.predict(X_test)\n",
        "total_data = X_test.shape[0]\n",
        "incorrects = (y_test != predict_features).sum()\n",
        "accuracy = (total_data - incorrects) / total_data\n",
        "\n",
        "print(\"Número de pontos rotulados incorretamente de um total %d pontos : %d\" % (total_data, incorrects))\n",
        "print(\"Taxa de acerto : %f\" % (accuracy))\n",
        "vet_accuracy.append(f'Gaussian Naive Bayes Acurácia: {((accuracy) * 100):.2f}%')\n",
        "print(vet_accuracy[-1])"
      ],
      "metadata": {
        "colab": {
          "base_uri": "https://localhost:8080/"
        },
        "id": "9lCvjtGYzIxF",
        "outputId": "1048d479-992f-48a7-dd6b-f0e0ee4880ec"
      },
      "execution_count": null,
      "outputs": [
        {
          "output_type": "stream",
          "name": "stdout",
          "text": [
            "Número de pontos rotulados incorretamente de um total 75 pontos : 4\n",
            "Taxa de acerto : 0.946667\n",
            "Gaussian Naive Bayes Acurácia: 94.67%\n"
          ]
        }
      ]
    },
    {
      "cell_type": "markdown",
      "source": [
        "#Decision Tree"
      ],
      "metadata": {
        "id": "h-gGGLaNGVrt"
      }
    },
    {
      "cell_type": "code",
      "source": [
        "dtree = tree.DecisionTreeClassifier()\n",
        "dtree_pred = dtree.fit(X_train, y_train).predict(X_test)\n",
        "print('Decision Trees Acurácia: {:.2f}%'.format(accuracy_score(y_test, dtree_pred) * 100))\n",
        "\n",
        "fig = plt.figure(figsize=(20,15))\n",
        "_ = tree.plot_tree(dtree, \n",
        "                #    feature_names=iris.feature_names,  \n",
        "                #    class_names=iris.target_names,\n",
        "                   filled=True)\n",
        "\n",
        "vet_accuracy.append(f'Decision Trees Acurácia: {(accuracy_score(y_test, dtree_pred) * 100):.2f}%')"
      ],
      "metadata": {
        "colab": {
          "base_uri": "https://localhost:8080/"
        },
        "id": "G_kwFmXaGWGc",
        "outputId": "2fc656ba-8f39-4657-9909-b15c87d167c0"
      },
      "execution_count": null,
      "outputs": [
        {
          "output_type": "stream",
          "name": "stdout",
          "text": [
            "Decision Trees Acurácia: 88.00%\n"
          ]
        },
        {
          "output_type": "display_data",
          "data": {
            "text/plain": [
              "<Figure size 1440x1080 with 1 Axes>"
            ],
            "image/png": "[encoded data removed]"
          },
          "metadata": {
            "needs_background": "light"
          }
        }
      ]
    },
    {
      "cell_type": "markdown",
      "source": [
        "#Random Forest"
      ],
      "metadata": {
        "id": "JLCvyPCx_Ho0"
      }
    },
    {
      "cell_type": "code",
      "source": [
        "rfc = RandomForestClassifier(n_estimators=1000)\n",
        "rfc_pred = rfc.fit(X_train, y_train).predict(X_test)\n",
        "print('Random Forest Acurácia: {:.2f}%'.format(accuracy_score(y_test, rfc_pred) * 100))\n",
        "vet_accuracy.append('Random Forest Acurácia: {:.2f}%'.format(accuracy_score(y_test, rfc_pred) * 100))"
      ],
      "metadata": {
        "colab": {
          "base_uri": "https://localhost:8080/"
        },
        "id": "e8-NBwSM_KGs",
        "outputId": "f32aefe0-82cb-4726-f90b-626409dd86a1"
      },
      "execution_count": null,
      "outputs": [
        {
          "output_type": "stream",
          "name": "stdout",
          "text": [
            "Random Forest Acurácia: 89.33%\n"
          ]
        }
      ]
    },
    {
      "cell_type": "markdown",
      "source": [
        "#SVM"
      ],
      "metadata": {
        "id": "S1SB-rfc52P1"
      }
    },
    {
      "cell_type": "code",
      "source": [
        "dsvm = svm.SVC()\n",
        "dsvm_pred = dsvm.fit(X_train, y_train).predict(X_test)\n",
        "print('SVM Acurácia: {:.2f}%'.format(accuracy_score(y_test, dsvm_pred) * 100))\n",
        "vet_accuracy.append('SVM Acurácia: {:.2f}%'.format(accuracy_score(y_test, dsvm_pred) * 100))"
      ],
      "metadata": {
        "colab": {
          "base_uri": "https://localhost:8080/"
        },
        "id": "wbCw-2qi55AF",
        "outputId": "5356eae5-9df3-4737-ea0b-1c1d7fd63917"
      },
      "execution_count": null,
      "outputs": [
        {
          "output_type": "stream",
          "name": "stdout",
          "text": [
            "SVM Acurácia: 97.33%\n"
          ]
        }
      ]
    },
    {
      "cell_type": "markdown",
      "source": [
        "#**APRENDIZADO NÂO SUPERVISIONADO**"
      ],
      "metadata": {
        "id": "2AHxZPWCSbbE"
      }
    },
    {
      "cell_type": "markdown",
      "source": [
        "#Auto Encoder vs PCA - Knn"
      ],
      "metadata": {
        "id": "u5F5W5rySf-L"
      }
    },
    {
      "cell_type": "code",
      "source": [
        "import keras\n",
        "import pickle\n",
        "import pandas as pd\n",
        "import numpy as np\n",
        "import matplotlib.pyplot as plt\n",
        "from keras.models import Model, load_model\n",
        "from keras.layers import Input, Dense\n",
        "from keras.callbacks import ModelCheckpoint\n",
        "from keras import regularizers\n",
        "from keras.optimizers import Adam\n",
        "from keras import regularizers\n",
        "from sklearn import datasets\n",
        "from sklearn import decomposition\n",
        "from sklearn.cluster import KMeans\n",
        "from sklearn.preprocessing import MinMaxScaler\n",
        "from sklearn import metrics\n",
        "\n",
        "%matplotlib inline\n",
        "\n",
        "RANDOM_SEED = 37117\n",
        "np.random.seed(RANDOM_SEED)"
      ],
      "metadata": {
        "id": "Kpiv5F3h_8HT"
      },
      "execution_count": null,
      "outputs": []
    },
    {
      "cell_type": "code",
      "source": [
        "X, y = load_iris(return_X_y=True)"
      ],
      "metadata": {
        "id": "n-WFbDQkADOy"
      },
      "execution_count": null,
      "outputs": []
    },
    {
      "cell_type": "code",
      "source": [
        "input_dim = X.shape[1]\n",
        "encoding_dim = 2  \n",
        "input_img = Input(shape=(input_dim,))\n",
        "encoded = Dense(encoding_dim, activation='linear')(input_img)\n",
        "decoded = Dense(input_dim, activation='linear')(encoded)\n",
        "autoencoder = Model(input_img, decoded)\n",
        "autoencoder.compile(optimizer='adam', loss='mse')\n",
        "# print(autoencoder.summary())\n",
        "\n",
        "history = autoencoder.fit(X, X,\n",
        "                epochs=1000,\n",
        "                batch_size=16,\n",
        "                shuffle=True,\n",
        "                validation_split=0.1,\n",
        "                verbose = 0)\n",
        "\n",
        "encoder = Model(input_img, encoded)\n",
        "encoded_input = Input(shape=(encoding_dim,))\n",
        "decoder_layer = autoencoder.layers[-1]\n",
        "decoder = Model(encoded_input, decoder_layer(encoded_input))\n",
        "X_new_encoder = encoder.predict(X)"
      ],
      "metadata": {
        "colab": {
          "base_uri": "https://localhost:8080/"
        },
        "id": "BEEyUBD_AYVS",
        "outputId": "d31b5920-d887-4afd-96ae-2ec957c8bd8f"
      },
      "execution_count": null,
      "outputs": [
        {
          "output_type": "stream",
          "name": "stdout",
          "text": [
            "5/5 [==============================] - 0s 2ms/step\n"
          ]
        }
      ]
    },
    {
      "cell_type": "code",
      "source": [
        "from sklearn.decomposition import PCA\n",
        "\n",
        "pca=PCA(n_components=3)\n",
        "X_new_PCA = pca.fit_transform(X)\n",
        "# pca = decomposition.PCA()\n",
        "# X_new_PCA = pca.fit_transform(X)"
      ],
      "metadata": {
        "id": "wFXUDX2jiPeN"
      },
      "execution_count": null,
      "outputs": []
    },
    {
      "cell_type": "code",
      "source": [
        "X_train_encoder, X_test_encoder, y_train_encoder, y_test_encoder = train_test_split(X_new_encoder, y, test_size = 0.3, random_state=20, stratify=y)"
      ],
      "metadata": {
        "id": "L2PT4z5FdNIF"
      },
      "execution_count": null,
      "outputs": []
    },
    {
      "cell_type": "code",
      "source": [
        "X_train_PCA, X_test_PCA, y_train_PCA, y_test_PCA = train_test_split(X_new_PCA, y, test_size = 0.3, random_state=20, stratify=y)"
      ],
      "metadata": {
        "id": "n4xCQm9FdZed"
      },
      "execution_count": null,
      "outputs": []
    },
    {
      "cell_type": "code",
      "source": [
        "knn_pca = KNeighborsClassifier(7)\n",
        "knn_pca.fit(X_train_PCA,y_train_PCA)\n",
        "print(\"Test score after PCA\",knn_pca.score(X_test_PCA,y_test_PCA),\"%\")\n",
        "vet_accuracy.append(f'Knn com PCA: {(knn_pca.score(X_test_PCA,y_test_PCA) * 100):.2f}%')\n",
        "\n",
        "knn_encoder = KNeighborsClassifier(7)\n",
        "knn_encoder.fit(X_train_encoder,y_train_encoder)\n",
        "vet_accuracy.append(f'Knn com Encoder: {(knn_encoder.score(X_test_encoder,y_test_encoder) * 100):.2f}%')\n"
      ],
      "metadata": {
        "colab": {
          "base_uri": "https://localhost:8080/"
        },
        "id": "6jis6Eorc7K8",
        "outputId": "9be5e35a-7f1e-46ef-de87-cfb18fb2a610"
      },
      "execution_count": null,
      "outputs": [
        {
          "output_type": "stream",
          "name": "stdout",
          "text": [
            "Test score after PCA 0.9777777777777777 %\n"
          ]
        }
      ]
    },
    {
      "cell_type": "code",
      "source": [
        "vet_accuracy"
      ],
      "metadata": {
        "colab": {
          "base_uri": "https://localhost:8080/"
        },
        "id": "TmraW-iPA1rB",
        "outputId": "696d4db1-04f5-423c-e5cb-35b61aca449f"
      },
      "execution_count": null,
      "outputs": [
        {
          "output_type": "execute_result",
          "data": {
            "text/plain": [
              "['KNeighborsClassifier: 92.00%',\n",
              " 'Linear Model erro médio quadrado: 38.29%',\n",
              " 'Gaussian Naive Bayes Acurácia: 94.67%',\n",
              " 'Decision Trees Acurácia: 88.00%',\n",
              " 'Random Forest Acurácia: 89.33%',\n",
              " 'SVM Acurácia: 97.33%',\n",
              " 'Knn com PCA: 97.78%',\n",
              " 'Knn com Encoder: 91.11%']"
            ]
          },
          "metadata": {},
          "execution_count": 25
        }
      ]
    },
    {
      "cell_type": "markdown",
      "source": [
        "#K-Mean Clustering"
      ],
      "metadata": {
        "id": "0OOsmjnCP2Ov"
      }
    },
    {
      "cell_type": "code",
      "source": [
        "X_features, Y_features = load_iris(return_X_y=True)"
      ],
      "metadata": {
        "id": "8p1jYd5LXcFf"
      },
      "execution_count": null,
      "outputs": []
    },
    {
      "cell_type": "code",
      "source": [
        "kmeans = KMeans(n_clusters=3, random_state=0, algorithm=\"elkan\")\n",
        "kmeans.fit(X_features)"
      ],
      "metadata": {
        "id": "IxJcm1XqPsJw",
        "colab": {
          "base_uri": "https://localhost:8080/"
        },
        "outputId": "1018d837-257a-478a-f830-12dc19bd06f6"
      },
      "execution_count": null,
      "outputs": [
        {
          "output_type": "execute_result",
          "data": {
            "text/plain": [
              "KMeans(algorithm='elkan', n_clusters=3, random_state=0)"
            ]
          },
          "metadata": {},
          "execution_count": 27
        }
      ]
    },
    {
      "cell_type": "code",
      "source": [
        "y_kmeans = kmeans.labels_\n",
        "vet_accuracy.append('K-mean clustering: {:.2f}%'.format(accuracy_score(Y_features, y_kmeans) * 100))\n",
        "print(vet_accuracy[-1])"
      ],
      "metadata": {
        "colab": {
          "base_uri": "https://localhost:8080/"
        },
        "id": "yWJIq3KEXqTG",
        "outputId": "f9a79e63-4510-4fe3-8b9d-680c0365f7c6"
      },
      "execution_count": null,
      "outputs": [
        {
          "output_type": "stream",
          "name": "stdout",
          "text": [
            "K-mean clustering: 24.00%\n"
          ]
        }
      ]
    },
    {
      "cell_type": "markdown",
      "source": [
        "#Agglomerative Clustering"
      ],
      "metadata": {
        "id": "8Svwq-z12rUv"
      }
    },
    {
      "cell_type": "code",
      "source": [
        "clustering = AgglomerativeClustering(n_clusters = 3)\n",
        "clustering.fit(X_features)"
      ],
      "metadata": {
        "colab": {
          "base_uri": "https://localhost:8080/"
        },
        "id": "dysyvVDY2sMj",
        "outputId": "0d732682-500e-46a4-d77e-74da7267a49d"
      },
      "execution_count": null,
      "outputs": [
        {
          "output_type": "execute_result",
          "data": {
            "text/plain": [
              "AgglomerativeClustering(n_clusters=3)"
            ]
          },
          "metadata": {},
          "execution_count": 29
        }
      ]
    },
    {
      "cell_type": "code",
      "source": [
        "vet_accuracy.append('Agglomerative Clustering: {:.2f}%'.format(accuracy_score(Y_features, clustering.labels_) * 100))"
      ],
      "metadata": {
        "id": "SCGF94af-eU2"
      },
      "execution_count": null,
      "outputs": []
    },
    {
      "cell_type": "markdown",
      "source": [],
      "metadata": {
        "id": "22xhmwUtO_86"
      }
    },
    {
      "cell_type": "markdown",
      "source": [
        "#DBS - SCAN"
      ],
      "metadata": {
        "id": "UyDWlF-sPp74"
      }
    },
    {
      "cell_type": "code",
      "source": [
        "clustering = DBSCAN(min_samples=10, algorithm='auto')\n",
        "clustering.fit(X_features)"
      ],
      "metadata": {
        "colab": {
          "base_uri": "https://localhost:8080/"
        },
        "id": "WydMz_FHPtiG",
        "outputId": "31e6c9a3-2f67-4ca9-fce1-b05b2d3f3847"
      },
      "execution_count": null,
      "outputs": [
        {
          "output_type": "execute_result",
          "data": {
            "text/plain": [
              "DBSCAN(min_samples=10)"
            ]
          },
          "metadata": {},
          "execution_count": 31
        }
      ]
    },
    {
      "cell_type": "code",
      "source": [
        "vet_accuracy.append('DBS-SCAN: {:.2f}%'.format(accuracy_score(Y_features, clustering.labels_) * 100))"
      ],
      "metadata": {
        "id": "NOp8Uk5bQLJt"
      },
      "execution_count": null,
      "outputs": []
    },
    {
      "cell_type": "code",
      "source": [
        "vet_accuracy"
      ],
      "metadata": {
        "colab": {
          "base_uri": "https://localhost:8080/"
        },
        "id": "XfeeNNVAQZfU",
        "outputId": "86d3fb7a-29a5-4118-de17-73a76662c28b"
      },
      "execution_count": null,
      "outputs": [
        {
          "output_type": "execute_result",
          "data": {
            "text/plain": [
              "['KNeighborsClassifier: 92.00%',\n",
              " 'Linear Model erro médio quadrado: 38.29%',\n",
              " 'Gaussian Naive Bayes Acurácia: 94.67%',\n",
              " 'Decision Trees Acurácia: 88.00%',\n",
              " 'Random Forest Acurácia: 89.33%',\n",
              " 'SVM Acurácia: 97.33%',\n",
              " 'Knn com PCA: 97.78%',\n",
              " 'Knn com Encoder: 91.11%',\n",
              " 'K-mean clustering: 24.00%',\n",
              " 'Agglomerative Clustering: 23.33%',\n",
              " 'DBS-SCAN: 61.33%']"
            ]
          },
          "metadata": {},
          "execution_count": 33
        }
      ]
    },
    {
      "cell_type": "markdown",
      "source": [
        "#**APRENDIZAGEM PROFUNDA**"
      ],
      "metadata": {
        "id": "ZzT_mGkePR-t"
      }
    },
    {
      "cell_type": "markdown",
      "source": [
        "#NLP"
      ],
      "metadata": {
        "id": "tT__l9AQSlQI"
      }
    },
    {
      "cell_type": "code",
      "source": [
        "pip install nltk"
      ],
      "metadata": {
        "colab": {
          "base_uri": "https://localhost:8080/"
        },
        "id": "EGmL5z6uSnfv",
        "outputId": "3af95e5e-d1d7-449f-b377-f64426099dd8"
      },
      "execution_count": null,
      "outputs": [
        {
          "output_type": "stream",
          "name": "stdout",
          "text": [
            "Looking in indexes: https://pypi.org/simple, https://us-python.pkg.dev/colab-wheels/public/simple/\n",
            "Requirement already satisfied: nltk in /usr/local/lib/python3.7/dist-packages (3.7)\n",
            "Requirement already satisfied: click in /usr/local/lib/python3.7/dist-packages (from nltk) (7.1.2)\n",
            "Requirement already satisfied: regex>=2021.8.3 in /usr/local/lib/python3.7/dist-packages (from nltk) (2022.6.2)\n",
            "Requirement already satisfied: joblib in /usr/local/lib/python3.7/dist-packages (from nltk) (1.2.0)\n",
            "Requirement already satisfied: tqdm in /usr/local/lib/python3.7/dist-packages (from nltk) (4.64.1)\n"
          ]
        }
      ]
    },
    {
      "cell_type": "code",
      "source": [
        "from nltk.tokenize import word_tokenize"
      ],
      "metadata": {
        "id": "2KOCm_1uS38V"
      },
      "execution_count": null,
      "outputs": []
    },
    {
      "cell_type": "code",
      "source": [
        "from nltk.stem import PorterStemmer\n",
        "from nltk.tokenize import word_tokenize\n",
        "import nltk\n",
        "nltk.download('punkt')\n",
        "nltk.download('averaged_perceptron_tagger')"
      ],
      "metadata": {
        "colab": {
          "base_uri": "https://localhost:8080/"
        },
        "id": "sfrIVkkOTgT9",
        "outputId": "1ecee79e-7aa9-4035-f602-90bb296fab9f"
      },
      "execution_count": null,
      "outputs": [
        {
          "output_type": "stream",
          "name": "stderr",
          "text": [
            "[nltk_data] Downloading package punkt to /root/nltk_data...\n",
            "[nltk_data]   Package punkt is already up-to-date!\n",
            "[nltk_data] Downloading package averaged_perceptron_tagger to\n",
            "[nltk_data]     /root/nltk_data...\n",
            "[nltk_data]   Package averaged_perceptron_tagger is already up-to-\n",
            "[nltk_data]       date!\n"
          ]
        },
        {
          "output_type": "execute_result",
          "data": {
            "text/plain": [
              "True"
            ]
          },
          "metadata": {},
          "execution_count": 36
        }
      ]
    },
    {
      "cell_type": "code",
      "source": [
        "sagan_quote = \"\"\" If you wish to make an apple pie from scratch, you must first invent the universe.\"\"\""
      ],
      "metadata": {
        "id": "UKO4o2NOS9ed"
      },
      "execution_count": null,
      "outputs": []
    },
    {
      "cell_type": "code",
      "source": [
        "words_in_sagan_quote = word_tokenize(sagan_quote)"
      ],
      "metadata": {
        "id": "hIr0LmdkTB7F"
      },
      "execution_count": null,
      "outputs": []
    },
    {
      "cell_type": "code",
      "source": [
        "nltk.pos_tag(words_in_sagan_quote)\n",
        "[('If', 'IN'),\n",
        " ('you', 'PRP'),\n",
        " ('wish', 'VBP'),\n",
        " ('to', 'TO'),\n",
        " ('make', 'VB'),\n",
        " ('an', 'DT'),\n",
        " ('apple', 'NN'),\n",
        " ('pie', 'NN'),\n",
        " ('from', 'IN'),\n",
        " ('scratch', 'NN'),\n",
        " (',', ','),\n",
        " ('you', 'PRP'),\n",
        " ('must', 'MD'),\n",
        " ('first', 'VB'),\n",
        " ('invent', 'VB'),\n",
        " ('the', 'DT'),\n",
        " ('universe', 'NN'),\n",
        " ('.', '.')]"
      ],
      "metadata": {
        "colab": {
          "base_uri": "https://localhost:8080/"
        },
        "id": "HBdpT2tITFIl",
        "outputId": "7cf602af-dbf8-4d5b-ed0b-8688ca2836e4"
      },
      "execution_count": null,
      "outputs": [
        {
          "output_type": "execute_result",
          "data": {
            "text/plain": [
              "[('If', 'IN'),\n",
              " ('you', 'PRP'),\n",
              " ('wish', 'VBP'),\n",
              " ('to', 'TO'),\n",
              " ('make', 'VB'),\n",
              " ('an', 'DT'),\n",
              " ('apple', 'NN'),\n",
              " ('pie', 'NN'),\n",
              " ('from', 'IN'),\n",
              " ('scratch', 'NN'),\n",
              " (',', ','),\n",
              " ('you', 'PRP'),\n",
              " ('must', 'MD'),\n",
              " ('first', 'VB'),\n",
              " ('invent', 'VB'),\n",
              " ('the', 'DT'),\n",
              " ('universe', 'NN'),\n",
              " ('.', '.')]"
            ]
          },
          "metadata": {},
          "execution_count": 39
        }
      ]
    },
    {
      "cell_type": "code",
      "source": [
        "nltk.download('tagsets')\n",
        "nltk.help.upenn_tagset()"
      ],
      "metadata": {
        "colab": {
          "base_uri": "https://localhost:8080/"
        },
        "id": "oY2bjddPTRD2",
        "outputId": "4f3fb731-c782-42dc-bd1d-8e4c4d955dda"
      },
      "execution_count": null,
      "outputs": [
        {
          "output_type": "stream",
          "name": "stdout",
          "text": [
            "$: dollar\n",
            "    $ -$ --$ A$ C$ HK$ M$ NZ$ S$ U.S.$ US$\n",
            "'': closing quotation mark\n",
            "    ' ''\n",
            "(: opening parenthesis\n",
            "    ( [ {\n",
            "): closing parenthesis\n",
            "    ) ] }\n",
            ",: comma\n",
            "    ,\n",
            "--: dash\n",
            "    --\n",
            ".: sentence terminator\n",
            "    . ! ?\n",
            ":: colon or ellipsis\n",
            "    : ; ...\n",
            "CC: conjunction, coordinating\n",
            "    & 'n and both but either et for less minus neither nor or plus so\n",
            "    therefore times v. versus vs. whether yet\n",
            "CD: numeral, cardinal\n",
            "    mid-1890 nine-thirty forty-two one-tenth ten million 0.5 one forty-\n",
            "    seven 1987 twenty '79 zero two 78-degrees eighty-four IX '60s .025\n",
            "    fifteen 271,124 dozen quintillion DM2,000 ...\n",
            "DT: determiner\n",
            "    all an another any both del each either every half la many much nary\n",
            "    neither no some such that the them these this those\n",
            "EX: existential there\n",
            "    there\n",
            "FW: foreign word\n",
            "    gemeinschaft hund ich jeux habeas Haementeria Herr K'ang-si vous\n",
            "    lutihaw alai je jour objets salutaris fille quibusdam pas trop Monte\n",
            "    terram fiche oui corporis ...\n",
            "IN: preposition or conjunction, subordinating\n",
            "    astride among uppon whether out inside pro despite on by throughout\n",
            "    below within for towards near behind atop around if like until below\n",
            "    next into if beside ...\n",
            "JJ: adjective or numeral, ordinal\n",
            "    third ill-mannered pre-war regrettable oiled calamitous first separable\n",
            "    ectoplasmic battery-powered participatory fourth still-to-be-named\n",
            "    multilingual multi-disciplinary ...\n",
            "JJR: adjective, comparative\n",
            "    bleaker braver breezier briefer brighter brisker broader bumper busier\n",
            "    calmer cheaper choosier cleaner clearer closer colder commoner costlier\n",
            "    cozier creamier crunchier cuter ...\n",
            "JJS: adjective, superlative\n",
            "    calmest cheapest choicest classiest cleanest clearest closest commonest\n",
            "    corniest costliest crassest creepiest crudest cutest darkest deadliest\n",
            "    dearest deepest densest dinkiest ...\n",
            "LS: list item marker\n",
            "    A A. B B. C C. D E F First G H I J K One SP-44001 SP-44002 SP-44005\n",
            "    SP-44007 Second Third Three Two * a b c d first five four one six three\n",
            "    two\n",
            "MD: modal auxiliary\n",
            "    can cannot could couldn't dare may might must need ought shall should\n",
            "    shouldn't will would\n",
            "NN: noun, common, singular or mass\n",
            "    common-carrier cabbage knuckle-duster Casino afghan shed thermostat\n",
            "    investment slide humour falloff slick wind hyena override subhumanity\n",
            "    machinist ...\n",
            "NNP: noun, proper, singular\n",
            "    Motown Venneboerger Czestochwa Ranzer Conchita Trumplane Christos\n",
            "    Oceanside Escobar Kreisler Sawyer Cougar Yvette Ervin ODI Darryl CTCA\n",
            "    Shannon A.K.C. Meltex Liverpool ...\n",
            "NNPS: noun, proper, plural\n",
            "    Americans Americas Amharas Amityvilles Amusements Anarcho-Syndicalists\n",
            "    Andalusians Andes Andruses Angels Animals Anthony Antilles Antiques\n",
            "    Apache Apaches Apocrypha ...\n",
            "NNS: noun, common, plural\n",
            "    undergraduates scotches bric-a-brac products bodyguards facets coasts\n",
            "    divestitures storehouses designs clubs fragrances averages\n",
            "    subjectivists apprehensions muses factory-jobs ...\n",
            "PDT: pre-determiner\n",
            "    all both half many quite such sure this\n",
            "POS: genitive marker\n",
            "    ' 's\n",
            "PRP: pronoun, personal\n",
            "    hers herself him himself hisself it itself me myself one oneself ours\n",
            "    ourselves ownself self she thee theirs them themselves they thou thy us\n",
            "PRP$: pronoun, possessive\n",
            "    her his mine my our ours their thy your\n",
            "RB: adverb\n",
            "    occasionally unabatingly maddeningly adventurously professedly\n",
            "    stirringly prominently technologically magisterially predominately\n",
            "    swiftly fiscally pitilessly ...\n",
            "RBR: adverb, comparative\n",
            "    further gloomier grander graver greater grimmer harder harsher\n",
            "    healthier heavier higher however larger later leaner lengthier less-\n",
            "    perfectly lesser lonelier longer louder lower more ...\n",
            "RBS: adverb, superlative\n",
            "    best biggest bluntest earliest farthest first furthest hardest\n",
            "    heartiest highest largest least less most nearest second tightest worst\n",
            "RP: particle\n",
            "    aboard about across along apart around aside at away back before behind\n",
            "    by crop down ever fast for forth from go high i.e. in into just later\n",
            "    low more off on open out over per pie raising start teeth that through\n",
            "    under unto up up-pp upon whole with you\n",
            "SYM: symbol\n",
            "    % & ' '' ''. ) ). * + ,. < = > @ A[fj] U.S U.S.S.R * ** ***\n",
            "TO: \"to\" as preposition or infinitive marker\n",
            "    to\n",
            "UH: interjection\n",
            "    Goodbye Goody Gosh Wow Jeepers Jee-sus Hubba Hey Kee-reist Oops amen\n",
            "    huh howdy uh dammit whammo shucks heck anyways whodunnit honey golly\n",
            "    man baby diddle hush sonuvabitch ...\n",
            "VB: verb, base form\n",
            "    ask assemble assess assign assume atone attention avoid bake balkanize\n",
            "    bank begin behold believe bend benefit bevel beware bless boil bomb\n",
            "    boost brace break bring broil brush build ...\n",
            "VBD: verb, past tense\n",
            "    dipped pleaded swiped regummed soaked tidied convened halted registered\n",
            "    cushioned exacted snubbed strode aimed adopted belied figgered\n",
            "    speculated wore appreciated contemplated ...\n",
            "VBG: verb, present participle or gerund\n",
            "    telegraphing stirring focusing angering judging stalling lactating\n",
            "    hankerin' alleging veering capping approaching traveling besieging\n",
            "    encrypting interrupting erasing wincing ...\n",
            "VBN: verb, past participle\n",
            "    multihulled dilapidated aerosolized chaired languished panelized used\n",
            "    experimented flourished imitated reunifed factored condensed sheared\n",
            "    unsettled primed dubbed desired ...\n",
            "VBP: verb, present tense, not 3rd person singular\n",
            "    predominate wrap resort sue twist spill cure lengthen brush terminate\n",
            "    appear tend stray glisten obtain comprise detest tease attract\n",
            "    emphasize mold postpone sever return wag ...\n",
            "VBZ: verb, present tense, 3rd person singular\n",
            "    bases reconstructs marks mixes displeases seals carps weaves snatches\n",
            "    slumps stretches authorizes smolders pictures emerges stockpiles\n",
            "    seduces fizzes uses bolsters slaps speaks pleads ...\n",
            "WDT: WH-determiner\n",
            "    that what whatever which whichever\n",
            "WP: WH-pronoun\n",
            "    that what whatever whatsoever which who whom whosoever\n",
            "WP$: WH-pronoun, possessive\n",
            "    whose\n",
            "WRB: Wh-adverb\n",
            "    how however whence whenever where whereby whereever wherein whereof why\n",
            "``: opening quotation mark\n",
            "    ` ``\n"
          ]
        },
        {
          "output_type": "stream",
          "name": "stderr",
          "text": [
            "[nltk_data] Downloading package tagsets to /root/nltk_data...\n",
            "[nltk_data]   Package tagsets is already up-to-date!\n"
          ]
        }
      ]
    },
    {
      "cell_type": "markdown",
      "source": [
        "#MultLayer Perceptron"
      ],
      "metadata": {
        "id": "Rd_VACbA7rqM"
      }
    },
    {
      "cell_type": "code",
      "source": [
        "features, label = load_iris(return_X_y=True)\n",
        "X_train, X_test, y_train, y_test = train_test_split(features, label, stratify=label, train_size=0.5, random_state=42)"
      ],
      "metadata": {
        "id": "RAaEDigZWBCN"
      },
      "execution_count": null,
      "outputs": []
    },
    {
      "cell_type": "code",
      "source": [
        "mlp = MLPClassifier(\n",
        "   activation='relu',\n",
        "   solver='adam',\n",
        "   random_state= 42,\n",
        "   max_iter= 120,\n",
        "   alpha=0.01,\n",
        "   early_stopping=False,\n",
        "   warm_start=False, \n",
        "   # verbose=True,\n",
        "   )"
      ],
      "metadata": {
        "id": "HbsMuRqA73kN"
      },
      "execution_count": null,
      "outputs": []
    },
    {
      "cell_type": "code",
      "source": [
        "mlp.fit(X_train, y_train)\n",
        "\n",
        "predicted = mlp.predict(X_test)\n",
        "predict_prob = mlp.predict_proba(X_test)[:, 1]\n",
        "print('MLP Conjunto de teste score: {:.2f}%'.format(mlp.score(X_test, y_test) * 100))\n",
        "vet_accuracy.append(f'MLP Conjunto de teste score: {(mlp.score(X_test, y_test) * 100):.2f}%')"
      ],
      "metadata": {
        "colab": {
          "base_uri": "https://localhost:8080/"
        },
        "id": "TZfnKwFv7q8e",
        "outputId": "f0691116-0f04-409d-d565-dbf888c8c4ad"
      },
      "execution_count": null,
      "outputs": [
        {
          "output_type": "stream",
          "name": "stdout",
          "text": [
            "MLP Conjunto de teste score: 97.33%\n"
          ]
        }
      ]
    },
    {
      "cell_type": "markdown",
      "source": [
        "#**Resultados**"
      ],
      "metadata": {
        "id": "103MNbrV3Lri"
      }
    },
    {
      "cell_type": "code",
      "source": [
        "vet_accuracy"
      ],
      "metadata": {
        "colab": {
          "base_uri": "https://localhost:8080/"
        },
        "id": "rBgCWPfZSxq4",
        "outputId": "3dcb2979-1aa6-448f-f511-feb336e2930d"
      },
      "execution_count": null,
      "outputs": [
        {
          "output_type": "execute_result",
          "data": {
            "text/plain": [
              "['KNeighborsClassifier: 92.00%',\n",
              " 'Linear Model erro médio quadrado: 38.29%',\n",
              " 'Gaussian Naive Bayes Acurácia: 94.67%',\n",
              " 'Decision Trees Acurácia: 88.00%',\n",
              " 'Random Forest Acurácia: 89.33%',\n",
              " 'SVM Acurácia: 97.33%',\n",
              " 'Knn com PCA: 97.78%',\n",
              " 'Knn com Encoder: 91.11%',\n",
              " 'K-mean clustering: 24.00%',\n",
              " 'Agglomerative Clustering: 23.33%',\n",
              " 'DBS-SCAN: 61.33%',\n",
              " 'MLP Conjunto de teste score: 97.33%']"
            ]
          },
          "metadata": {},
          "execution_count": 44
        }
      ]
    },
    {
      "cell_type": "markdown",
      "source": [
        "#Auto Encoder vs PCA - K-means ----------- BONUS"
      ],
      "metadata": {
        "id": "kmB-A37Ohwu_"
      }
    },
    {
      "cell_type": "code",
      "source": [
        "import keras\n",
        "import pickle\n",
        "import pandas as pd\n",
        "import numpy as np\n",
        "import matplotlib.pyplot as plt\n",
        "from keras.models import Model, load_model\n",
        "from keras.layers import Input, Dense\n",
        "from keras.callbacks import ModelCheckpoint\n",
        "from keras import regularizers\n",
        "from keras.optimizers import Adam\n",
        "from keras import regularizers\n",
        "from sklearn import datasets\n",
        "from sklearn import decomposition\n",
        "from sklearn.cluster import KMeans\n",
        "from sklearn.preprocessing import MinMaxScaler\n",
        "from sklearn import metrics\n",
        "\n",
        "%matplotlib inline\n",
        "\n",
        "RANDOM_SEED = 37117\n",
        "np.random.seed(RANDOM_SEED)"
      ],
      "metadata": {
        "id": "B26xIsKshwvH"
      },
      "execution_count": null,
      "outputs": []
    },
    {
      "cell_type": "code",
      "source": [
        "X, y = load_iris(return_X_y=True)\n",
        "#iris = datasets.load_iris()\n",
        "# X = iris.data\n",
        "# y = iris.target\n",
        "# target_names = iris.target_names\n",
        "\n",
        "scaler = MinMaxScaler()\n",
        "scaler.fit(X)\n",
        "X_scaled = scaler.transform(X)"
      ],
      "metadata": {
        "id": "l3JlThgzhwvH"
      },
      "execution_count": null,
      "outputs": []
    },
    {
      "cell_type": "code",
      "source": [
        "pca = decomposition.PCA()\n",
        "pca_transformed = pca.fit_transform(X_scaled)\n",
        "#plot3clusters(pca_transformed[:,:2], 'PCA', 'PC')  "
      ],
      "metadata": {
        "id": "IizhRntJhwvH"
      },
      "execution_count": null,
      "outputs": []
    },
    {
      "cell_type": "code",
      "source": [
        "#create an AE and fit it with our data using 3 neurons in the dense layer using keras' functional API\n",
        "input_dim = X_scaled.shape[1]\n",
        "encoding_dim = 2  \n",
        "input_img = Input(shape=(input_dim,))\n",
        "encoded = Dense(encoding_dim, activation='linear')(input_img)\n",
        "decoded = Dense(input_dim, activation='linear')(encoded)\n",
        "autoencoder = Model(input_img, decoded)\n",
        "autoencoder.compile(optimizer='adam', loss='mse')\n",
        "print(autoencoder.summary())\n",
        "\n",
        "history = autoencoder.fit(X_scaled, X_scaled,\n",
        "                epochs=1000,\n",
        "                batch_size=16,\n",
        "                shuffle=True,\n",
        "                validation_split=0.1,\n",
        "                verbose = 0)\n",
        "\n",
        "#plot our loss \n",
        "# plt.plot(history.history['loss'])\n",
        "# plt.plot(history.history['val_loss'])\n",
        "# plt.title('model train vs validation loss')\n",
        "# plt.ylabel('loss')\n",
        "# plt.xlabel('epoch')\n",
        "# plt.legend(['train', 'validation'], loc='upper right')\n",
        "# plt.show()\n",
        "\n",
        "# use our encoded layer to encode the training input\n",
        "encoder = Model(input_img, encoded)\n",
        "encoded_input = Input(shape=(encoding_dim,))\n",
        "decoder_layer = autoencoder.layers[-1]\n",
        "decoder = Model(encoded_input, decoder_layer(encoded_input))\n",
        "X_new_encoder = encoder.predict(X_scaled)\n",
        "# plot3clusters(encoded_data[:,:2], 'Linear AE', 'AE')  "
      ],
      "metadata": {
        "colab": {
          "base_uri": "https://localhost:8080/"
        },
        "outputId": "54df116a-44a7-4e5f-d83c-fbee7b7f6af2",
        "id": "9CEtKa-chwvI"
      },
      "execution_count": null,
      "outputs": [
        {
          "output_type": "stream",
          "name": "stdout",
          "text": [
            "Model: \"model_3\"\n",
            "_________________________________________________________________\n",
            " Layer (type)                Output Shape              Param #   \n",
            "=================================================================\n",
            " input_3 (InputLayer)        [(None, 4)]               0         \n",
            "                                                                 \n",
            " dense_2 (Dense)             (None, 2)                 10        \n",
            "                                                                 \n",
            " dense_3 (Dense)             (None, 4)                 12        \n",
            "                                                                 \n",
            "=================================================================\n",
            "Total params: 22\n",
            "Trainable params: 22\n",
            "Non-trainable params: 0\n",
            "_________________________________________________________________\n",
            "None\n",
            "5/5 [==============================] - 0s 3ms/step\n"
          ]
        }
      ]
    },
    {
      "cell_type": "code",
      "source": [
        "X_new_PCA =pca.fit_transform(X_scaled)\n"
      ],
      "metadata": {
        "id": "WIoc9oWytqW_"
      },
      "execution_count": null,
      "outputs": []
    },
    {
      "cell_type": "code",
      "source": [
        "labels_true = y \n",
        "titles = ['PCA', 'Linear AE']\n",
        "for n_clusters_ in [2]:\n",
        "  estimators = [('PCA'    , KMeans(n_clusters=n_clusters_), X_new_PCA),\n",
        "                ('AE linear' , KMeans(n_clusters=n_clusters_), X_new_encoder)]\n",
        "\n",
        "  print(type(y))\n",
        "  for name, est, data in estimators:\n",
        "      X = data\n",
        "      est.fit(X)\n",
        "      labels = est.labels_\n",
        "      # print(name,':')\n",
        "      print(labels[:])\n",
        "      \n",
        "      print(f'kmeans com {name}: {(accuracy_score(y, labels[:]) * 100):.2f}%')"
      ],
      "metadata": {
        "colab": {
          "base_uri": "https://localhost:8080/"
        },
        "outputId": "5094921e-1fef-42c5-8742-5f3428cc65ea",
        "id": "-lY4bRMFhwvI"
      },
      "execution_count": null,
      "outputs": [
        {
          "output_type": "stream",
          "name": "stdout",
          "text": [
            "<class 'numpy.ndarray'>\n",
            "[1 1 1 1 1 1 1 1 1 1 1 1 1 1 1 1 1 1 1 1 1 1 1 1 1 1 1 1 1 1 1 1 1 1 1 1 1\n",
            " 1 1 1 1 1 1 1 1 1 1 1 1 1 0 0 0 0 0 0 0 0 0 0 0 0 0 0 0 0 0 0 0 0 0 0 0 0\n",
            " 0 0 0 0 0 0 0 0 0 0 0 0 0 0 0 0 0 0 0 0 0 0 0 0 0 0 0 0 0 0 0 0 0 0 0 0 0\n",
            " 0 0 0 0 0 0 0 0 0 0 0 0 0 0 0 0 0 0 0 0 0 0 0 0 0 0 0 0 0 0 0 0 0 0 0 0 0\n",
            " 0 0]\n",
            "kmeans com PCA: 0.00%\n",
            "[0 0 0 0 0 0 0 0 0 0 0 0 0 0 0 0 0 0 0 0 0 0 0 0 0 0 0 0 0 0 0 0 0 0 0 0 0\n",
            " 0 0 0 0 0 0 0 0 0 0 0 0 0 1 1 1 1 1 1 1 1 1 1 1 1 1 1 1 1 1 1 1 1 1 1 1 1\n",
            " 1 1 1 1 1 1 1 1 1 1 1 1 1 1 1 1 1 1 1 1 1 1 1 1 1 1 1 1 1 1 1 1 1 1 1 1 1\n",
            " 1 1 1 1 1 1 1 1 1 1 1 1 1 1 1 1 1 1 1 1 1 1 1 1 1 1 1 1 1 1 1 1 1 1 1 1 1\n",
            " 1 1]\n",
            "kmeans com AE linear: 66.67%\n"
          ]
        }
      ]
    },
    {
      "cell_type": "code",
      "source": [
        "vet_accuracy"
      ],
      "metadata": {
        "colab": {
          "base_uri": "https://localhost:8080/"
        },
        "outputId": "ef4510a8-18ae-485a-f189-8e7bfadaa263",
        "id": "UjS9qBnjhwvJ"
      },
      "execution_count": null,
      "outputs": [
        {
          "output_type": "execute_result",
          "data": {
            "text/plain": [
              "['KNeighborsClassifier: 92.00%',\n",
              " 'Linear Model erro médio quadrado: 38.29%',\n",
              " 'Gaussian Naive Bayes Acurácia: 94.67%',\n",
              " 'Decision Trees Acurácia: 88.00%',\n",
              " 'Random Forest Acurácia: 89.33%',\n",
              " 'SVM Acurácia: 97.33%',\n",
              " 'Knn com PCA: 97.78%',\n",
              " 'Knn com Encoder: 91.11%',\n",
              " 'K-mean clustering: 24.00%',\n",
              " 'Agglomerative Clustering: 23.33%',\n",
              " 'DBS-SCAN: 61.33%',\n",
              " 'MLP Conjunto de teste score: 97.33%']"
            ]
          },
          "metadata": {},
          "execution_count": 51
        }
      ]
    }
  ]
}